{
 "cells": [
  {
   "cell_type": "markdown",
   "metadata": {},
   "source": [
    "# Initialize"
   ]
  },
  {
   "cell_type": "markdown",
   "metadata": {},
   "source": [
    "## Import modules"
   ]
  },
  {
   "cell_type": "code",
   "execution_count": null,
   "metadata": {},
   "outputs": [],
   "source": [
    "import numpy as np\n",
    "import matplotlib as mpl\n",
    "import matplotlib.pyplot as plt\n",
    "from scipy.interpolate import griddata\n",
    "\n",
    "mpl.rcParams['font.size'] = 14\n",
    "\n",
    "# scientific format of axis labels\n",
    "def sci_format():\n",
    "    fmt = mpl.ticker.ScalarFormatter(useMathText=True)\n",
    "    fmt.set_powerlimits((-2, 3))\n",
    "    return (fmt)"
   ]
  },
  {
   "cell_type": "markdown",
   "metadata": {},
   "source": [
    "## Define analyzer"
   ]
  },
  {
   "cell_type": "code",
   "execution_count": null,
   "metadata": {},
   "outputs": [],
   "source": [
    "class Analyze(object):\n",
    "    \n",
    "    def __init__(self,\n",
    "                 root=\".\",      # path to result data\n",
    "                 x_scale = 1.0,\n",
    "                 y_scale = 1.0,\n",
    "                 u_scale = 1.0,\n",
    "                 rotate = False, # rotate points from global (x,y) to local (x',y')\n",
    "                 ref_x = 0.0,\n",
    "                 ref_y = 0.0\n",
    "                ):\n",
    "        self = locals().pop(\"self\")\n",
    "        for name, val in locals().items():\n",
    "            print(\"setting \" + name + \" to:\", val)\n",
    "            setattr(self, name, val)\n",
    "        \n",
    "        # load all data\n",
    "        self.load_source()\n",
    "        self.load_target()\n",
    "        self.load_error()\n",
    "        \n",
    "        if self.rotate:\n",
    "            from scipy.spatial.transform import Rotation as rotate\n",
    "                \n",
    "            # compute rotation matrix    \n",
    "            r0 = np.sqrt(self.ref_x**2 + self.ref_y**2)\n",
    "            alpha0 = np.arctan2(self.ref_x, self.ref_y)\n",
    "            r = rotate.from_euler('z', alpha0)\n",
    "            rot_matrix = r.as_matrix()\n",
    "            \n",
    "            print(\"alpha0 = \", alpha0)\n",
    "            print(\"rot_matrix=\", rot_matrix)\n",
    "            print(\"ref_prime = \", r.apply(np.asarray([self.ref_x, self.ref_y, 0.0])))\n",
    "            \n",
    "            # rotate from global (x,y) to local (x',y')\n",
    "            self.source_x_prime = self.source_x * rot_matrix[0,0] + self.source_y * rot_matrix[0,1]\n",
    "            self.source_y_prime = self.source_x * rot_matrix[1,0] + self.source_y * rot_matrix[1,1]\n",
    "            self.target_x_prime = self.target_x * rot_matrix[0,0] + self.target_y * rot_matrix[0,1]\n",
    "            self.target_y_prime = self.target_x * rot_matrix[1,0] + self.target_y * rot_matrix[1,1]            \n",
    "            \n",
    "            # deduce axis range\n",
    "            self.target_x_prime_lim = [self.target_x_prime.min(), self.target_x_prime.max()] \n",
    "            self.target_y_prime_lim = [self.target_y_prime.min(), self.target_y_prime.max()] \n",
    "            \n",
    "    def load_source(self):\n",
    "        # import points\n",
    "        self.source_x, self.source_y = np.loadtxt(self.root + '/source.csv', delimiter=',', unpack=True)\n",
    "        self.source_x *= self.x_scale\n",
    "        self.source_y *= self.y_scale\n",
    "        # deduce axis range\n",
    "        self.xlim_source = [self.source_x.min(), self.source_x.max()]\n",
    "        self.ylim_source = [self.source_y.min(), self.source_y.max()]\n",
    "        # import field and unscale\n",
    "        self.source = np.loadtxt(self.root+'/source.dat', delimiter=',', unpack=True)\n",
    "        self.source *= self.u_scale\n",
    "\n",
    "    def load_target(self):\n",
    "        from scipy.spatial.transform import Rotation as R\n",
    "        # import points\n",
    "        self.target_x, self.target_y = np.loadtxt(self.root + '/target.csv', delimiter=',', unpack=True)\n",
    "        # deduce axis range\n",
    "        self.xlim_target = [self.target_x.min(), self.target_x.max()]\n",
    "        self.ylim_target = [self.target_y.min(), self.target_y.max()]\n",
    "        # fields\n",
    "        self.remap = np.loadtxt(self.root+'/remap.dat', delimiter=',', unpack=True)\n",
    "\n",
    "    def load_error(self):\n",
    "        self.error = np.loadtxt(self.root+'/error.dat', delimiter=',', unpack=True)\n",
    "        self.exact = np.loadtxt(self.root+'/exact.dat', delimiter=',', unpack=True)"
   ]
  },
  {
   "cell_type": "markdown",
   "metadata": {},
   "source": [
    "# Plotting"
   ]
  },
  {
   "cell_type": "markdown",
   "metadata": {},
   "source": [
    "## Verify source points"
   ]
  },
  {
   "cell_type": "code",
   "execution_count": null,
   "metadata": {},
   "outputs": [],
   "source": [
    "# optional scaling\n",
    "x_scale = 1e-6\n",
    "y_scale = 1e-4\n",
    "u_scale = 1e-8\n",
    "\n",
    "# optional reference point for rotation\n",
    "ref_x = 0.198179158531\n",
    "ref_y = 0.980165685551\n",
    "\n",
    "def load_source(path, \n",
    "                assign_field_value=True,\n",
    "                x_scale = 1.0,\n",
    "                y_scale = 1.0,\n",
    "                u_scale = 1.0) :\n",
    "    data = np.genfromtxt(path, delimiter=\",\") # read CSV file\n",
    "    n_source = data.shape[0]\n",
    "    u = np.zeros(n_source)\n",
    "\n",
    "    def assign_field(p):\n",
    "        x = p[:,0]\n",
    "        y = p[:,1]\n",
    "        x_fact = -0.0000001\n",
    "        y_fact = -0.0005\n",
    "        return np.exp((x_fact*x*x) + (y_fact*y*y))\n",
    "        #return np.cos(5.0*y*2*np.pi/(ymax-ymin))\n",
    "\n",
    "    if (assign_field_value) : \n",
    "        u = assign_field(data[:,:2])\n",
    "        u *= u_scale\n",
    " \n",
    "    x = data[:,0].copy() * x_scale\n",
    "    y = data[:,1].copy() * y_scale\n",
    "    return x, y, u\n",
    "\n",
    "# load source file\n",
    "x, y, u = load_source(\"source.csv\", True, x_scale, y_scale, u_scale)\n",
    "\n",
    "# compare with previoulsy loaded\n",
    "analysis = Analyze(\".\", x_scale, y_scale, u_scale, False, ref_x, ref_y)\n",
    "print(\"source_x: (min,max) = \", x.min(), x.max())\n",
    "print(\"source_y: (min,max) = \", y.min(), y.max())\n",
    "print(\"diff_x = \", analysis.source_x.min() - x.min(), analysis.source_x.max() - x.max())\n",
    "print(\"diff_y = \", analysis.source_y.min() - y.min(), analysis.source_y.max() - y.max())"
   ]
  },
  {
   "cell_type": "markdown",
   "metadata": {},
   "source": [
    "## Points distribution"
   ]
  },
  {
   "cell_type": "code",
   "execution_count": null,
   "metadata": {},
   "outputs": [],
   "source": [
    "# plot source and target\n",
    "fig, axes = plt.subplots(1,1, figsize=[8,6])\n",
    "ax=axes\n",
    "ax.set_title(\"source & target\")\n",
    "ax.scatter(analysis.source_x, analysis.source_y, s=.1, facecolor='C0', label=\"source\")\n",
    "ax.scatter(analysis.target_x, analysis.target_y, s=.1, facecolor='C1', label=\"target\")\n",
    "ax.set_xlim(analysis.xlim_target)\n",
    "ax.set_ylim(analysis.ylim_target)\n",
    "ax.set_xlabel(r'$x\\prime$')\n",
    "ax.set_ylabel(r'$y\\prime$')\n",
    "plt.legend(loc=\"upper right\")\n",
    "\n",
    "print(analysis.target_x.min(), analysis.target_y.min())\n",
    "print(analysis.target_x.max(), analysis.target_y.max())"
   ]
  },
  {
   "cell_type": "markdown",
   "metadata": {},
   "source": [
    "## Source field and comparison"
   ]
  },
  {
   "cell_type": "code",
   "execution_count": null,
   "metadata": {},
   "outputs": [],
   "source": [
    "%matplotlib inline\n",
    "fig, axes = plt.subplots(2,2, figsize=[16,12])\n",
    "\n",
    "ax=axes[0,0]\n",
    "ax.set_title(\"source field\")\n",
    "sc=ax.scatter(analysis.source_x, analysis.source_y, c=analysis.source, marker='o', s=5, cmap=\"coolwarm\")\n",
    "ax.set_xlim(analysis.xlim_target)\n",
    "ax.set_ylim(analysis.ylim_target)\n",
    "fig.colorbar(sc, ax=ax)\n",
    "#sc.set_clim(-1, 1)\n",
    "ax.set_xlabel(r'$x\\prime$')\n",
    "ax.set_ylabel(r'$y\\prime$')\n",
    "\n",
    "ax=axes[0,1]\n",
    "ax.set_title(\"remapped field\")\n",
    "sc=ax.scatter(analysis.target_x, analysis.target_y, c=analysis.remap, marker='o', s=5, cmap=\"coolwarm\")\n",
    "# ax.plot(analysis.ref_x, analysis.ref_y, 'c.', markersize=5)\n",
    "ax.set_xlim(analysis.xlim_target)\n",
    "ax.set_ylim(analysis.ylim_target)\n",
    "fig.colorbar(sc, ax=ax)\n",
    "ax.set_xlabel(r'$x\\prime$')\n",
    "ax.set_ylabel(r'$y\\prime$')\n",
    "\n",
    "analysis.load_error()\n",
    "ax=axes[1,0]\n",
    "ax.set_title(\"exact values\")\n",
    "sc=ax.scatter(analysis.target_x, analysis.target_y, c=analysis.exact, marker='o', s=5, cmap=\"coolwarm\")\n",
    "ax.set_xlim(analysis.xlim_target)\n",
    "ax.set_ylim(analysis.ylim_target)\n",
    "fig.colorbar(sc, ax=ax)\n",
    "ax.set_xlabel(r'$x\\prime$')\n",
    "ax.set_ylabel(r'$y\\prime$')\n",
    "\n",
    "ax=axes[1,1]\n",
    "ax.set_title(\"error map\")\n",
    "sc=ax.scatter(analysis.target_x, analysis.target_y, c=analysis.error, marker='.', s=5, cmap=\"coolwarm\")\n",
    "ax.set_xlim(analysis.xlim_target)\n",
    "ax.set_ylim(analysis.ylim_target)\n",
    "fig.colorbar(sc, ax=ax)\n",
    "ax.set_xlabel(r'$x\\prime$')\n",
    "ax.set_ylabel(r'$y\\prime$')\n",
    "\n",
    "plt.savefig(\"fields.png\")"
   ]
  },
  {
   "cell_type": "markdown",
   "metadata": {},
   "source": [
    "## Remapped field"
   ]
  },
  {
   "cell_type": "code",
   "execution_count": null,
   "metadata": {},
   "outputs": [],
   "source": [
    "%matplotlib inline\n",
    "plt.subplots(1,1, figsize=[8,6])\n",
    "plt.title(\"remapped field\")\n",
    "plt.imshow(analysis.remap.reshape([201,201]).T,\\\n",
    "           aspect=\"auto\",cmap=\"coolwarm\",\\\n",
    "           origin=\"upper\", \\\n",
    "           extent=[analysis.xlim_target[0], analysis.xlim_target[1], \\\n",
    "                   analysis.ylim_target[0], analysis.ylim_target[1]])\n",
    "#plt.clim(-1,1)\n",
    "plt.colorbar()"
   ]
  },
  {
   "cell_type": "markdown",
   "metadata": {},
   "source": [
    "## Exact values"
   ]
  },
  {
   "cell_type": "code",
   "execution_count": null,
   "metadata": {},
   "outputs": [],
   "source": [
    "%matplotlib inline\n",
    "analysis.load_error()\n",
    "plt.subplots(1,1, figsize=[8,6])\n",
    "plt.title(\"exact values\")\n",
    "plt.imshow(analysis.exact.reshape([201,201]).T,\\\n",
    "           aspect=\"auto\", cmap=\"coolwarm\")\n",
    "#plt.clim(-1,1)\n",
    "plt.colorbar()\n",
    "\n",
    "analysis.source.min(), analysis.source.max()"
   ]
  },
  {
   "cell_type": "markdown",
   "metadata": {},
   "source": [
    "## Error map"
   ]
  },
  {
   "cell_type": "code",
   "execution_count": null,
   "metadata": {},
   "outputs": [],
   "source": [
    "%matplotlib inline\n",
    "plt.subplots(1,1, figsize=[8,6])\n",
    "plt.title(\"error map\")\n",
    "plt.imshow(analysis.error.reshape([201,201]).T,\\\n",
    "           aspect=\"auto\", cmap=\"coolwarm\")\n",
    "#plt.clim(0,0.5)\n",
    "plt.colorbar()"
   ]
  }
 ],
 "metadata": {
  "file_extension": ".py",
  "kernelspec": {
   "display_name": "Python 3",
   "language": "python",
   "name": "python3"
  },
  "language_info": {
   "codemirror_mode": {
    "name": "ipython",
    "version": 3
   },
   "file_extension": ".py",
   "mimetype": "text/x-python",
   "name": "python",
   "nbconvert_exporter": "python",
   "pygments_lexer": "ipython3",
   "version": "3.9.0"
  },
  "mimetype": "text/x-python",
  "name": "python",
  "npconvert_exporter": "python",
  "pygments_lexer": "ipython2",
  "toc": {
   "base_numbering": 1,
   "nav_menu": {},
   "number_sections": true,
   "sideBar": true,
   "skip_h1_title": false,
   "title_cell": "Table of Contents",
   "title_sidebar": "Contents",
   "toc_cell": false,
   "toc_position": {
    "height": "calc(100% - 180px)",
    "left": "10px",
    "top": "150px",
    "width": "239px"
   },
   "toc_section_display": true,
   "toc_window_display": true
  },
  "toc-autonumbering": true,
  "toc-showcode": false,
  "toc-showmarkdowntxt": false,
  "version": 2
 },
 "nbformat": 4,
 "nbformat_minor": 4
}
